{
 "cells": [
  {
   "cell_type": "code",
   "execution_count": 48,
   "metadata": {},
   "outputs": [
    {
     "name": "stderr",
     "output_type": "stream",
     "text": [
      "C:\\Anaconda3\\envs\\chatbot\\lib\\site-packages\\gensim\\utils.py:1197: UserWarning: detected Windows; aliasing chunkize to chunkize_serial\n",
      "  warnings.warn(\"detected Windows; aliasing chunkize to chunkize_serial\")\n"
     ]
    }
   ],
   "source": [
    "import matplotlib.pyplot as plt\n",
    "import numpy as np\n",
    "import pandas as pd\n",
    "import spacy\n",
    "import scipy\n",
    "import string\n",
    "import time\n",
    "from __future__ import division\n",
    "from sklearn.feature_extraction.text import CountVectorizer\n",
    "from nltk.stem.porter import *\n",
    "import nltk\n",
    "from spacy.lemmatizer import Lemmatizer\n",
    "from nltk.corpus import stopwords\n",
    "from sklearn.pipeline import Pipeline\n",
    "from netCDF4 import Dataset\n",
    "import multiprocessing\n",
    "from sklearn.feature_extraction import text\n",
    "from sklearn.model_selection import train_test_split\n",
    "from collections import Counter\n",
    "from imblearn.over_sampling import RandomOverSampler\n",
    "from imblearn.under_sampling import RandomUnderSampler\n",
    "from sklearn.feature_extraction.text import TfidfVectorizer\n",
    "from sklearn.base import BaseEstimator, TransformerMixin\n",
    "from sklearn.linear_model import LogisticRegression\n",
    "from sklearn.model_selection import cross_validate\n",
    "from sklearn.model_selection import GridSearchCV\n",
    "from sklearn.model_selection import RandomizedSearchCV\n",
    "from sklearn import metrics\n",
    "from gensim.models.phrases import Phrases, Phraser"
   ]
  },
  {
   "cell_type": "code",
   "execution_count": 2,
   "metadata": {},
   "outputs": [],
   "source": [
    "df = pd.read_json(\"reviews.json\")\n",
    "nlp = spacy.load('en')\n",
    "reviews = df.loc[:, \"Review\"]\n",
    "scores = df.loc[:, \"Score\"]\n",
    "helpful = df.loc[:, \"How helpful\"]"
   ]
  },
  {
   "cell_type": "code",
   "execution_count": 3,
   "metadata": {},
   "outputs": [],
   "source": [
    "# extract rating score of each product and astype int\n",
    "for index, score in enumerate(scores):\n",
    "    doc = nlp(score)\n",
    "    scores.at[index] = doc.ents[0].text[0]\n",
    "scores = scores.astype('int')\n",
    "# save rating score as int and; 0 if none data collected\n",
    "for index, h in enumerate(helpful): \n",
    "    doc = nlp(h)\n",
    "    if not doc.ents:\n",
    "        helpful.at[index] = 0\n",
    "    else:\n",
    "        score = doc.ents[1].text\n",
    "        if score == 'One':\n",
    "            helpful.at[index] = 1\n",
    "        else:\n",
    "            helpful.at[index] = score\n",
    "helpful = helpful.astype('int')"
   ]
  },
  {
   "cell_type": "code",
   "execution_count": 4,
   "metadata": {},
   "outputs": [],
   "source": [
    "# Combine helpful & reviews as features and scores as labels\n",
    "X = reviews\n",
    "y = scores\n",
    "data = pd.DataFrame({'helpful': helpful, 'reviews': reviews, 'scores': scores})"
   ]
  },
  {
   "cell_type": "code",
   "execution_count": 203,
   "metadata": {},
   "outputs": [
    {
     "data": {
      "text/plain": [
       "count               851\n",
       "unique              821\n",
       "top       great product\n",
       "freq                  8\n",
       "Name: Review, dtype: object"
      ]
     },
     "execution_count": 203,
     "metadata": {},
     "output_type": "execute_result"
    }
   ],
   "source": [
    "X.describe()"
   ]
  },
  {
   "cell_type": "code",
   "execution_count": 6,
   "metadata": {
    "collapsed": true
   },
   "outputs": [
    {
     "data": {
      "text/html": [
       "<div>\n",
       "<style scoped>\n",
       "    .dataframe tbody tr th:only-of-type {\n",
       "        vertical-align: middle;\n",
       "    }\n",
       "\n",
       "    .dataframe tbody tr th {\n",
       "        vertical-align: top;\n",
       "    }\n",
       "\n",
       "    .dataframe thead th {\n",
       "        text-align: right;\n",
       "    }\n",
       "</style>\n",
       "<table border=\"1\" class=\"dataframe\">\n",
       "  <thead>\n",
       "    <tr style=\"text-align: right;\">\n",
       "      <th></th>\n",
       "      <th>helpful</th>\n",
       "      <th>scores</th>\n",
       "    </tr>\n",
       "  </thead>\n",
       "  <tbody>\n",
       "    <tr>\n",
       "      <th>helpful</th>\n",
       "      <td>1.00000</td>\n",
       "      <td>-0.02641</td>\n",
       "    </tr>\n",
       "    <tr>\n",
       "      <th>scores</th>\n",
       "      <td>-0.02641</td>\n",
       "      <td>1.00000</td>\n",
       "    </tr>\n",
       "  </tbody>\n",
       "</table>\n",
       "</div>"
      ],
      "text/plain": [
       "         helpful   scores\n",
       "helpful  1.00000 -0.02641\n",
       "scores  -0.02641  1.00000"
      ]
     },
     "execution_count": 6,
     "metadata": {},
     "output_type": "execute_result"
    }
   ],
   "source": [
    "data.corr()"
   ]
  },
  {
   "cell_type": "code",
   "execution_count": 7,
   "metadata": {},
   "outputs": [],
   "source": [
    "%matplotlib inline"
   ]
  },
  {
   "cell_type": "code",
   "execution_count": 8,
   "metadata": {
    "collapsed": true
   },
   "outputs": [
    {
     "data": {
      "text/plain": [
       "(array([850.,   0.,   0.,   0.,   0.,   0.,   0.,   0.,   0.,   1.]),\n",
       " array([  0. ,  21.6,  43.2,  64.8,  86.4, 108. , 129.6, 151.2, 172.8,\n",
       "        194.4, 216. ]),\n",
       " <a list of 10 Patch objects>)"
      ]
     },
     "execution_count": 8,
     "metadata": {},
     "output_type": "execute_result"
    },
    {
     "data": {
      "image/png": "[encoded data removed]",
      "text/plain": [
       "<Figure size 432x288 with 1 Axes>"
      ]
     },
     "metadata": {},
     "output_type": "display_data"
    }
   ],
   "source": [
    "plt.hist(data['helpful'], bins=10)"
   ]
  },
  {
   "cell_type": "code",
   "execution_count": 9,
   "metadata": {
    "collapsed": true
   },
   "outputs": [
    {
     "data": {
      "text/plain": [
       "5    548\n",
       "4    117\n",
       "1     81\n",
       "3     53\n",
       "2     52\n",
       "Name: Score, dtype: int64"
      ]
     },
     "execution_count": 9,
     "metadata": {},
     "output_type": "execute_result"
    }
   ],
   "source": [
    "pd.value_counts(y)"
   ]
  },
  {
   "cell_type": "code",
   "execution_count": 10,
   "metadata": {},
   "outputs": [
    {
     "name": "stdout",
     "output_type": "stream",
     "text": [
      "('Num of lines: ', 851L)\n",
      "('Num of words: ', 132818)\n"
     ]
    }
   ],
   "source": [
    "# calculate line counts and word counts\n",
    "line_count = data['reviews'].shape[0]\n",
    "count_words = 0\n",
    "for review in reviews:\n",
    "    count_words = count_words + len(review)\n",
    "print(\"Num of lines: \", line_count)\n",
    "print(\"Num of words: \", count_words)"
   ]
  },
  {
   "cell_type": "code",
   "execution_count": 11,
   "metadata": {
    "collapsed": true
   },
   "outputs": [
    {
     "data": {
      "text/plain": [
       "count     851.000000\n",
       "mean      156.072855\n",
       "std       196.925216\n",
       "min         4.000000\n",
       "25%        39.000000\n",
       "50%        93.000000\n",
       "75%       202.500000\n",
       "max      2420.000000\n",
       "Name: reviews, dtype: float64"
      ]
     },
     "execution_count": 11,
     "metadata": {},
     "output_type": "execute_result"
    }
   ],
   "source": [
    "%matplotlib inline\n",
    "review_length = data['reviews'].apply(lambda r: len(r))\n",
    "review_length.describe()"
   ]
  },
  {
   "cell_type": "code",
   "execution_count": 12,
   "metadata": {
    "collapsed": true
   },
   "outputs": [
    {
     "data": {
      "text/plain": [
       "count     851.000000\n",
       "mean      156.072855\n",
       "std       196.925216\n",
       "min         4.000000\n",
       "25%        39.000000\n",
       "50%        93.000000\n",
       "75%       202.500000\n",
       "max      2420.000000\n",
       "Name: Review, dtype: float64"
      ]
     },
     "execution_count": 12,
     "metadata": {},
     "output_type": "execute_result"
    }
   ],
   "source": [
    "review_length = X.apply(lambda r: len(r))\n",
    "review_length.describe()"
   ]
  },
  {
   "cell_type": "code",
   "execution_count": 13,
   "metadata": {
    "collapsed": true
   },
   "outputs": [
    {
     "data": {
      "text/html": [
       "<div>\n",
       "<style scoped>\n",
       "    .dataframe tbody tr th:only-of-type {\n",
       "        vertical-align: middle;\n",
       "    }\n",
       "\n",
       "    .dataframe tbody tr th {\n",
       "        vertical-align: top;\n",
       "    }\n",
       "\n",
       "    .dataframe thead th {\n",
       "        text-align: right;\n",
       "    }\n",
       "</style>\n",
       "<table border=\"1\" class=\"dataframe\">\n",
       "  <thead>\n",
       "    <tr style=\"text-align: right;\">\n",
       "      <th></th>\n",
       "      <th>helpful</th>\n",
       "      <th>scores</th>\n",
       "    </tr>\n",
       "  </thead>\n",
       "  <tbody>\n",
       "    <tr>\n",
       "      <th>count</th>\n",
       "      <td>851.00000</td>\n",
       "      <td>851.000000</td>\n",
       "    </tr>\n",
       "    <tr>\n",
       "      <th>mean</th>\n",
       "      <td>0.59812</td>\n",
       "      <td>4.173913</td>\n",
       "    </tr>\n",
       "    <tr>\n",
       "      <th>std</th>\n",
       "      <td>7.46510</td>\n",
       "      <td>1.333840</td>\n",
       "    </tr>\n",
       "    <tr>\n",
       "      <th>min</th>\n",
       "      <td>0.00000</td>\n",
       "      <td>1.000000</td>\n",
       "    </tr>\n",
       "    <tr>\n",
       "      <th>25%</th>\n",
       "      <td>0.00000</td>\n",
       "      <td>4.000000</td>\n",
       "    </tr>\n",
       "    <tr>\n",
       "      <th>50%</th>\n",
       "      <td>0.00000</td>\n",
       "      <td>5.000000</td>\n",
       "    </tr>\n",
       "    <tr>\n",
       "      <th>75%</th>\n",
       "      <td>0.00000</td>\n",
       "      <td>5.000000</td>\n",
       "    </tr>\n",
       "    <tr>\n",
       "      <th>max</th>\n",
       "      <td>216.00000</td>\n",
       "      <td>5.000000</td>\n",
       "    </tr>\n",
       "  </tbody>\n",
       "</table>\n",
       "</div>"
      ],
      "text/plain": [
       "         helpful      scores\n",
       "count  851.00000  851.000000\n",
       "mean     0.59812    4.173913\n",
       "std      7.46510    1.333840\n",
       "min      0.00000    1.000000\n",
       "25%      0.00000    4.000000\n",
       "50%      0.00000    5.000000\n",
       "75%      0.00000    5.000000\n",
       "max    216.00000    5.000000"
      ]
     },
     "execution_count": 13,
     "metadata": {},
     "output_type": "execute_result"
    }
   ],
   "source": [
    "data.describe()[['helpful', 'scores']]"
   ]
  },
  {
   "cell_type": "code",
   "execution_count": 14,
   "metadata": {
    "collapsed": true
   },
   "outputs": [
    {
     "data": {
      "text/plain": [
       "<matplotlib.axes._subplots.AxesSubplot at 0x2491beb8>"
      ]
     },
     "execution_count": 14,
     "metadata": {},
     "output_type": "execute_result"
    },
    {
     "data": {
      "image/png": "[encoded data removed]",
      "text/plain": [
       "<Figure size 432x288 with 1 Axes>"
      ]
     },
     "metadata": {},
     "output_type": "display_data"
    }
   ],
   "source": [
    "%matplotlib inline\n",
    "review_length.plot(kind='hist', bins=20)"
   ]
  },
  {
   "cell_type": "code",
   "execution_count": 15,
   "metadata": {
    "collapsed": true
   },
   "outputs": [
    {
     "data": {
      "text/plain": [
       "<matplotlib.axes._subplots.AxesSubplot at 0x247c7be0>"
      ]
     },
     "execution_count": 15,
     "metadata": {},
     "output_type": "execute_result"
    },
    {
     "data": {
      "image/png": "[encoded data removed]",
      "text/plain": [
       "<Figure size 432x288 with 1 Axes>"
      ]
     },
     "metadata": {},
     "output_type": "display_data"
    }
   ],
   "source": [
    "review_length.plot(kind='kde')"
   ]
  },
  {
   "cell_type": "code",
   "execution_count": 166,
   "metadata": {},
   "outputs": [],
   "source": [
    "# Now we are going to clean up the reviews\n",
    "cleanup_re = re.compile('[^a-z]+')\n",
    "def cleanup(sentence):\n",
    "    sentence = sentence.lower()\n",
    "    sentence = cleanup_re.sub(' ', sentence).strip()\n",
    "    #sentence = \" \".join(nltk.word_tokenize(sentence))\n",
    "    return sentence\n",
    "X = X.apply(cleanup)"
   ]
  },
  {
   "cell_type": "code",
   "execution_count": 158,
   "metadata": {},
   "outputs": [],
   "source": [
    "class PartOfSpeechFilter(BaseEstimator, TransformerMixin):\n",
    "    def __init__(self, pos_to_keep=('NOUN', 'PROPN', 'ADJ', 'VERB'), stop_words=None):\n",
    "        self.pos_to_keep = pos_to_keep\n",
    "        self.stop_words = stop_words\n",
    "        \n",
    "    def fit(self, X, y=None):\n",
    "        return self\n",
    "        \n",
    "    def transform(self, X):\n",
    "        preprocessed_sentences = []\n",
    "        \n",
    "        for doc in nlp.pipe(X, n_threads=8):\n",
    "            if self.stop_words is not None:\n",
    "                keep_tokens_string = ' '.join([t.lemma_ for t in doc if t.pos_ in self.pos_to_keep and t.lemma_ not in self.stop_words])\n",
    "            else:\n",
    "                keep_tokens_string = ' '.join([t.lemma_ for t in doc if t.pos_ in self.pos_to_keep])\n",
    "            preprocessed_sentences.append(keep_tokens_string)\n",
    "    \n",
    "        return preprocessed_sentences"
   ]
  },
  {
   "cell_type": "code",
   "execution_count": 170,
   "metadata": {},
   "outputs": [],
   "source": [
    "# implement tfidfvectorizer\n",
    "tfidf = TfidfVectorizer(analyzer = \"word\", max_features = 1000, \n",
    "                        stop_words=\"english\", ngram_range=(1,2))\n",
    "features = tfidf.fit_transform(X).toarray()"
   ]
  },
  {
   "cell_type": "code",
   "execution_count": 192,
   "metadata": {},
   "outputs": [],
   "source": [
    "# select top 5 features\n",
    "tfidf_tags = []\n",
    "top_n = -5\n",
    "feature_array = np.array(tfidf.get_feature_names())\n",
    "tfidf_sorting = np.argsort(features)\n",
    "for i, e in enumerate(tfidf_sorting):\n",
    "    tmp_tags = []\n",
    "    indexes = e[top_n:]\n",
    "    for idx in indexes:\n",
    "        cur_tag = feature_array[idx]\n",
    "        if features[i][idx] > 0.1 and len(cur_tag)>3 and '_' not in cur_tag:\n",
    "            tmp_tags.append(cur_tag.replace(' ', '-'))\n",
    "    tfidf_tags.append(\" \".join(tmp_tags))"
   ]
  },
  {
   "cell_type": "code",
   "execution_count": 193,
   "metadata": {},
   "outputs": [],
   "source": [
    "new_features = tfidf.fit_transform(tfidf_tags).toarray()"
   ]
  },
  {
   "cell_type": "code",
   "execution_count": 76,
   "metadata": {},
   "outputs": [
    {
     "name": "stderr",
     "output_type": "stream",
     "text": [
      "C:\\Anaconda3\\envs\\chatbot\\lib\\site-packages\\gensim\\utils.py:1197: UserWarning: detected Windows; aliasing chunkize to chunkize_serial\n",
      "  warnings.warn(\"detected Windows; aliasing chunkize to chunkize_serial\")\n"
     ]
    }
   ],
   "source": [
    "from gensim.models.phrases import Phrases, Phraser"
   ]
  },
  {
   "cell_type": "code",
   "execution_count": 184,
   "metadata": {
    "collapsed": true
   },
   "outputs": [
    {
     "data": {
      "text/plain": [
       "[(u'great', 49.53513403012258),\n",
       " (u'bright', 41.389804597350334),\n",
       " (u'light', 39.49184433625329),\n",
       " (u'good', 39.16227558388151),\n",
       " (u'flashlights', 31.082812523055743),\n",
       " (u'flashlight', 27.804514599237184),\n",
       " (u'small', 24.291223062279773),\n",
       " (u'price', 23.476812287980376),\n",
       " (u'little', 22.32611534913841),\n",
       " (u'work', 21.999509033519818),\n",
       " (u'battery', 20.725166582808754),\n",
       " (u'nice', 18.762169365813957),\n",
       " (u'like', 18.095750529517204),\n",
       " (u'lights', 17.272996592704278),\n",
       " (u'works', 16.904765016465994),\n",
       " (u'product', 16.703475050825727),\n",
       " (u'use', 16.589424227342995),\n",
       " (u'size', 15.71094083171448),\n",
       " (u'love', 14.745597603193481),\n",
       " (u'just', 14.585896756742724),\n",
       " (u'batteries', 14.12140959837454),\n",
       " (u'perfect', 13.563678319861998),\n",
       " (u'quality', 13.25496674613295),\n",
       " (u'really', 12.579410512262069),\n",
       " (u'aa', 12.44398124924892),\n",
       " (u'awesome', 12.322576507559491),\n",
       " (u'compact', 12.228819827530877),\n",
       " (u'excellent', 11.767190728630458),\n",
       " (u'pocket', 11.018122060720959),\n",
       " (u'time', 10.836937484871957),\n",
       " (u'buy', 10.704735196860874),\n",
       " (u'worked', 10.064981475603346),\n",
       " (u'bought', 9.859148068215022),\n",
       " (u'easy', 9.44548632473642),\n",
       " (u'aa battery', 9.276669379883804),\n",
       " (u'bright light', 9.265023714284949),\n",
       " (u'car', 9.204679849414463),\n",
       " (u'handy', 9.19184617715383),\n",
       " (u'great product', 9.005953684749029),\n",
       " (u'little flashlights', 8.996201567244777),\n",
       " (u'flash', 8.981091139420409),\n",
       " (u'super', 8.728213059069077),\n",
       " (u'got', 8.717975951357545),\n",
       " (u'cheap', 8.63280769484906),\n",
       " (u'powerful', 8.523654491624656),\n",
       " (u'don', 8.231032664626042),\n",
       " (u'expected', 8.213693558669993),\n",
       " (u'great little', 8.192053014301989),\n",
       " (u'beam', 8.160085711262496),\n",
       " (u'value', 8.126794071388243)]"
      ]
     },
     "execution_count": 184,
     "metadata": {},
     "output_type": "execute_result"
    }
   ],
   "source": [
    "sum_down_columns = features.sum(axis=0)\n",
    "# np.array(sum_down_columns).shape[0]\n",
    "counts_per_word = list(zip(tfidf.get_feature_names(), sum_down_columns))\n",
    "sorted(counts_per_word, key=lambda t: t[1], reverse=True)[:50]"
   ]
  },
  {
   "cell_type": "code",
   "execution_count": 195,
   "metadata": {},
   "outputs": [],
   "source": [
    "# split train test datasets on original data\n",
    "X_train, X_test, y_train, y_test = train_test_split(new_features, y, test_size=0.33, random_state=42)\n",
    "# Oversample the data and split train test\n",
    "ros = RandomOverSampler()\n",
    "X_oversample, y_oversample = ros.fit_sample(new_features, y)\n",
    "X_oversample_train, X_oversample_test, y_oversample_train, y_oversample_test = train_test_split(X_oversample, y_oversample, test_size=0.33, random_state=42)"
   ]
  },
  {
   "cell_type": "markdown",
   "metadata": {},
   "source": [
    "# Build LR model"
   ]
  },
  {
   "cell_type": "code",
   "execution_count": 196,
   "metadata": {},
   "outputs": [],
   "source": [
    "# LR parameters and randomized the best param\n",
    "param_grid = {'C': np.linspace(1e-5, 1e5, 10), 'penalty': ['l1', 'l2']}\n",
    "lr = LogisticRegression()\n",
    "model_lr = RandomizedSearchCV(lr, param_grid, cv=10, scoring='accuracy', n_iter=20)"
   ]
  },
  {
   "cell_type": "code",
   "execution_count": 197,
   "metadata": {},
   "outputs": [
    {
     "data": {
      "text/plain": [
       "RandomizedSearchCV(cv=10, error_score='raise',\n",
       "          estimator=LogisticRegression(C=1.0, class_weight=None, dual=False, fit_intercept=True,\n",
       "          intercept_scaling=1, max_iter=100, multi_class='ovr', n_jobs=1,\n",
       "          penalty='l2', random_state=None, solver='liblinear', tol=0.0001,\n",
       "          verbose=0, warm_start=False),\n",
       "          fit_params={}, iid=True, n_iter=20, n_jobs=1,\n",
       "          param_distributions={'penalty': ['l1', 'l2'], 'C': array([1.00000e-05, 1.11111e+04, 2.22222e+04, 3.33333e+04, 4.44444e+04,\n",
       "       5.55556e+04, 6.66667e+04, 7.77778e+04, 8.88889e+04, 1.00000e+05])},\n",
       "          pre_dispatch='2*n_jobs', random_state=None, refit=True,\n",
       "          scoring='accuracy', verbose=0)"
      ]
     },
     "execution_count": 197,
     "metadata": {},
     "output_type": "execute_result"
    }
   ],
   "source": [
    "# fitting model with oversampled data\n",
    "model_lr.fit(X_oversample_train, y_oversample_train)"
   ]
  },
  {
   "cell_type": "code",
   "execution_count": 198,
   "metadata": {},
   "outputs": [
    {
     "name": "stdout",
     "output_type": "stream",
     "text": [
      "0.8674033149171271\n"
     ]
    }
   ],
   "source": [
    "# print out the accuracy on testing data\n",
    "y_pred = model_lr.predict(X_oversample_test)\n",
    "print(metrics.accuracy_score(y_pred,y_oversample_test))"
   ]
  },
  {
   "cell_type": "markdown",
   "metadata": {},
   "source": [
    "# Build svm model"
   ]
  },
  {
   "cell_type": "code",
   "execution_count": 148,
   "metadata": {},
   "outputs": [],
   "source": [
    "from sklearn import svm\n",
    "from sklearn.model_selection import cross_val_score\n",
    "from sklearn.grid_search import RandomizedSearchCV\n",
    "from sklearn import metrics"
   ]
  },
  {
   "cell_type": "code",
   "execution_count": 208,
   "metadata": {},
   "outputs": [
    {
     "name": "stdout",
     "output_type": "stream",
     "text": [
      "Fitting Oversampled data\n"
     ]
    }
   ],
   "source": [
    "print(\"Fitting Oversampled data\")\n",
    "svc = svm.SVC()"
   ]
  },
  {
   "cell_type": "code",
   "execution_count": 209,
   "metadata": {},
   "outputs": [],
   "source": [
    "tuned_parameters = {\n",
    "    'C': [1,10,100,500,1000], 'kernel':['linear','rbf'],\n",
    "    'C': [1,10,100,500,1000], 'gamma':[1,0.1,0.01,0.001,0.0001], 'kernel':['rbf'],\n",
    "    'degree':[2,3,4,5,6], 'C':[1,10,100,500,1000], 'kernel':['poly']\n",
    "}\n",
    "model_svm = RandomizedSearchCV(svc, tuned_parameters, cv=10, scoring='accuracy', n_iter=20)"
   ]
  },
  {
   "cell_type": "code",
   "execution_count": 210,
   "metadata": {},
   "outputs": [
    {
     "data": {
      "text/plain": [
       "RandomizedSearchCV(cv=10, error_score='raise',\n",
       "          estimator=SVC(C=1.0, cache_size=200, class_weight=None, coef0=0.0,\n",
       "  decision_function_shape='ovr', degree=3, gamma='auto', kernel='rbf',\n",
       "  max_iter=-1, probability=False, random_state=None, shrinking=True,\n",
       "  tol=0.001, verbose=False),\n",
       "          fit_params={}, iid=True, n_iter=20, n_jobs=1,\n",
       "          param_distributions={'kernel': ['poly'], 'C': [1, 10, 100, 500, 1000], 'degree': [2, 3, 4, 5, 6], 'gamma': [1, 0.1, 0.01, 0.001, 0.0001]},\n",
       "          pre_dispatch='2*n_jobs', random_state=None, refit=True,\n",
       "          scoring='accuracy', verbose=0)"
      ]
     },
     "execution_count": 210,
     "metadata": {},
     "output_type": "execute_result"
    }
   ],
   "source": [
    "model_svm.fit(X_oversample_train, y_oversample_train)"
   ]
  },
  {
   "cell_type": "code",
   "execution_count": 211,
   "metadata": {},
   "outputs": [
    {
     "data": {
      "text/plain": [
       "{'C': 1000, 'degree': 2, 'gamma': 0.1, 'kernel': 'poly'}"
      ]
     },
     "execution_count": 211,
     "metadata": {},
     "output_type": "execute_result"
    }
   ],
   "source": [
    "model_svm.best_params_"
   ]
  },
  {
   "cell_type": "code",
   "execution_count": 212,
   "metadata": {},
   "outputs": [
    {
     "name": "stdout",
     "output_type": "stream",
     "text": [
      "('Fitting svm with oversampled data', 0.907182320441989)\n"
     ]
    }
   ],
   "source": [
    "y_pred = model_svm.predict(X_oversample_test)\n",
    "print(\"Fitting svm with oversampled data\", metrics.accuracy_score(y_pred,y_oversample_test))"
   ]
  },
  {
   "cell_type": "markdown",
   "metadata": {},
   "source": [
    "# Implement random forest"
   ]
  },
  {
   "cell_type": "code",
   "execution_count": 199,
   "metadata": {},
   "outputs": [
    {
     "data": {
      "text/plain": [
       "RandomizedSearchCV(cv=10, error_score='raise',\n",
       "          estimator=RandomForestClassifier(bootstrap=True, class_weight=None, criterion='gini',\n",
       "            max_depth=None, max_features='auto', max_leaf_nodes=None,\n",
       "            min_impurity_decrease=0.0, min_impurity_split=None,\n",
       "            min_samples_leaf=1, min_samples_split=2,\n",
       "            min_weight_fraction_leaf=0.0, n_estimators=10, n_jobs=1,\n",
       "            oob_score=False, random_state=None, verbose=0,\n",
       "            warm_start=False),\n",
       "          fit_params={}, iid=True, n_iter=20, n_jobs=1,\n",
       "          param_distributions={'n_estimators': [10, 20, 30, 50, 100], 'max_depth': [2, 4, 6, 8, 10, None], 'min_samples_leaf': [1, 5, 10, 20, 40]},\n",
       "          pre_dispatch='2*n_jobs', random_state=None, refit=True,\n",
       "          scoring='accuracy', verbose=0)"
      ]
     },
     "execution_count": 199,
     "metadata": {},
     "output_type": "execute_result"
    }
   ],
   "source": [
    "from sklearn.ensemble import RandomForestClassifier\n",
    "rfc =  RandomForestClassifier()\n",
    "param_dist = {\"n_estimators\": [10,20,30,50,100],\n",
    "              'max_depth':[2,4,6,8,10,None],\n",
    "              'min_samples_leaf':[1,5,10,20,40]\n",
    "             }\n",
    "model_rfc = RandomizedSearchCV(rfc, param_dist, cv=10, scoring='accuracy', n_iter=20)\n",
    "model_rfc.fit(X_oversample_train, y_oversample_train)"
   ]
  },
  {
   "cell_type": "code",
   "execution_count": 200,
   "metadata": {},
   "outputs": [
    {
     "name": "stdout",
     "output_type": "stream",
     "text": [
      "('Fitting svm with oversampled data', 0.881767955801105)\n"
     ]
    }
   ],
   "source": [
    "y_pred = model_rfc.predict(X_oversample_test)\n",
    "print(\"Fitting svm with oversampled data\", metrics.accuracy_score(y_pred,y_oversample_test))"
   ]
  },
  {
   "cell_type": "markdown",
   "metadata": {},
   "source": [
    "# Conclusion:\n",
    "By training tree models in respect of multiple parameters, SVM has the highest accuracy aove 90 over the other two.\n",
    "With parameter: {'C': 1000, 'degree': 2, 'gamma': 0.1, 'kernel': 'poly'} when max_features = 1000\n",
    "According to experiments, the large value of max_feature is, the higher its accuracy is but much slower the process would be.\n",
    "Accuracy : 0.9458563535911603 when max_features = 5000\n",
    "So we need to achieve our best result out of max feature after speed-accuracy tradeoff consideration."
   ]
  },
  {
   "cell_type": "code",
   "execution_count": null,
   "metadata": {},
   "outputs": [],
   "source": []
  }
 ],
 "metadata": {
  "kernelspec": {
   "display_name": "Python 2",
   "language": "python",
   "name": "python2"
  },
  "language_info": {
   "codemirror_mode": {
    "name": "ipython",
    "version": 2
   },
   "file_extension": ".py",
   "mimetype": "text/x-python",
   "name": "python",
   "nbconvert_exporter": "python",
   "pygments_lexer": "ipython2",
   "version": "2.7.14"
  }
 },
 "nbformat": 4,
 "nbformat_minor": 2
}
