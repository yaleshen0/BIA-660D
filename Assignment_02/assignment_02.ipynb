{
 "cells": [
  {
   "cell_type": "code",
   "execution_count": 1,
   "metadata": {},
   "outputs": [],
   "source": [
    "from selenium import webdriver\n",
    "from selenium.webdriver.support.select import Select\n",
    "import random\n",
    "import time\n",
    "import itertools\n",
    "import numpy as np\n",
    "import spacy\n",
    "import pandas as pd"
   ]
  },
  {
   "cell_type": "code",
   "execution_count": 2,
   "metadata": {},
   "outputs": [],
   "source": [
    "nlp = spacy.load('en')"
   ]
  },
  {
   "cell_type": "code",
   "execution_count": 3,
   "metadata": {},
   "outputs": [],
   "source": [
    "driver = webdriver.Chrome(executable_path=r'chromedriver.exe')"
   ]
  },
  {
   "cell_type": "code",
   "execution_count": 5,
   "metadata": {},
   "outputs": [],
   "source": [
    "driver.get('http://www.mlb.com')\n",
    "normal_delay = random.normalvariate(2, 0.5)\n",
    "time.sleep(normal_delay)\n",
    "# print('Sleeping for {} seconds'.format(normal_delay))"
   ]
  },
  {
   "cell_type": "code",
   "execution_count": 6,
   "metadata": {},
   "outputs": [],
   "source": [
    "'''\n",
    "Question 1:\n",
    "'''\n",
    "stats_header_bar = driver.find_element_by_class_name('megamenu-static-navbar__menu-item--stats')\n",
    "stats_header_bar.click()\n",
    "time.sleep(normal_delay)"
   ]
  },
  {
   "cell_type": "code",
   "execution_count": 7,
   "metadata": {},
   "outputs": [],
   "source": [
    "# click into team section\n",
    "team_bar = driver.find_element_by_id('st_parent')\n",
    "team_bar.click()\n",
    "time.sleep(normal_delay)"
   ]
  },
  {
   "cell_type": "code",
   "execution_count": 8,
   "metadata": {},
   "outputs": [],
   "source": [
    "# find hitting season element to select\n",
    "hitting_season_element = driver.find_element_by_id('st_hitting_season')\n",
    "#select season \n",
    "season_select = Select(hitting_season_element)"
   ]
  },
  {
   "cell_type": "code",
   "execution_count": 9,
   "metadata": {},
   "outputs": [],
   "source": [
    "season_select.select_by_value('2015')\n",
    "time.sleep(normal_delay)"
   ]
  },
  {
   "cell_type": "code",
   "execution_count": 10,
   "metadata": {},
   "outputs": [],
   "source": [
    "# find regular season of 2015\n",
    "RS_game_type = driver.find_element_by_xpath(\"//select[@name='st_hitting_game_type']/option[text()='Regular Season']\")\n",
    "RS_game_type.click()\n",
    "time.sleep(normal_delay)"
   ]
  },
  {
   "cell_type": "code",
   "execution_count": 11,
   "metadata": {},
   "outputs": [],
   "source": [
    "from bs4 import BeautifulSoup\n",
    "from selenium.webdriver.support import expected_conditions as EC"
   ]
  },
  {
   "cell_type": "code",
   "execution_count": 12,
   "metadata": {},
   "outputs": [],
   "source": [
    "ques_one_page_source = driver.page_source"
   ]
  },
  {
   "cell_type": "code",
   "execution_count": null,
   "metadata": {},
   "outputs": [],
   "source": [
    "soup = BeautifulSoup(ques_one_page_source, 'html5lib')"
   ]
  },
  {
   "cell_type": "code",
   "execution_count": 14,
   "metadata": {},
   "outputs": [],
   "source": [
    "# find table div {id: datagrid}\n",
    "table_div = soup.find('div', attrs = {'id': 'datagrid'})"
   ]
  },
  {
   "cell_type": "code",
   "execution_count": 15,
   "metadata": {},
   "outputs": [],
   "source": [
    "# find table in table_div\n",
    "table = table_div.find('table', attrs ={'class': 'stats_table'})"
   ]
  },
  {
   "cell_type": "code",
   "execution_count": 16,
   "metadata": {},
   "outputs": [],
   "source": [
    "# find table body\n",
    "table_body = table.find('tbody')"
   ]
  },
  {
   "cell_type": "code",
   "execution_count": 17,
   "metadata": {},
   "outputs": [],
   "source": [
    "# find table head\n",
    "table_head = table.find('thead')"
   ]
  },
  {
   "cell_type": "code",
   "execution_count": 18,
   "metadata": {},
   "outputs": [],
   "source": [
    "ths = table_head.find_all('th')"
   ]
  },
  {
   "cell_type": "code",
   "execution_count": 19,
   "metadata": {},
   "outputs": [],
   "source": [
    "# find hr score th & team name th\n",
    "hr_head = ths[10]\n",
    "team_name = ths[1]"
   ]
  },
  {
   "cell_type": "code",
   "execution_count": 20,
   "metadata": {},
   "outputs": [
    {
     "data": {
      "text/plain": [
       "'HR▼'"
      ]
     },
     "execution_count": 20,
     "metadata": {},
     "output_type": "execute_result"
    }
   ],
   "source": [
    "hr_head.text"
   ]
  },
  {
   "cell_type": "code",
   "execution_count": 21,
   "metadata": {},
   "outputs": [],
   "source": [
    "n_rows = 0\n",
    "hr_score_list = []\n",
    "team_name_list = []\n",
    "column_names = []\n",
    "column_names.extend((team_name.text,hr_head.text))\n",
    "for tr in table_body.find_all('tr'):\n",
    "    # find all tds in each tr\n",
    "    tds = tr.find_all('td')\n",
    "    # retrieve name tds\n",
    "    team_name = tds[1].text\n",
    "    team_name_list.append(team_name)\n",
    "    # hr score of each row(team)\n",
    "    hr_score = tds[10].text\n",
    "    if len(hr_score) > 0:\n",
    "        n_rows = n_rows + 1\n",
    "        hr_score_list.append(hr_score)\n",
    "# df = pd.DataFrame(columns = column_names, data = hr_score_list, index= range(1,n_rows+1))"
   ]
  },
  {
   "cell_type": "code",
   "execution_count": 22,
   "metadata": {},
   "outputs": [],
   "source": [
    "# retrieve max score & index of it\n",
    "max_score = max(hr_score_list)\n",
    "hr_score_list.append(max_score)\n",
    "max_index = hr_score_list.index(max_score)\n",
    "# add max_score_team_name to list\n",
    "team_name_list.append(team_name_list[max_index])\n",
    "# combine two lists\n",
    "ques_one_list = list(zip(team_name_list,hr_score_list))"
   ]
  },
  {
   "cell_type": "code",
   "execution_count": 23,
   "metadata": {},
   "outputs": [],
   "source": [
    "# create panda df\n",
    "df = pd.DataFrame(columns = column_names, data = ques_one_list, index= range(1,n_rows+2))"
   ]
  },
  {
   "cell_type": "code",
   "execution_count": 24,
   "metadata": {
    "collapsed": true
   },
   "outputs": [
    {
     "data": {
      "text/html": [
       "<div>\n",
       "<style scoped>\n",
       "    .dataframe tbody tr th:only-of-type {\n",
       "        vertical-align: middle;\n",
       "    }\n",
       "\n",
       "    .dataframe tbody tr th {\n",
       "        vertical-align: top;\n",
       "    }\n",
       "\n",
       "    .dataframe thead th {\n",
       "        text-align: right;\n",
       "    }\n",
       "</style>\n",
       "<table border=\"1\" class=\"dataframe\">\n",
       "  <thead>\n",
       "    <tr style=\"text-align: right;\">\n",
       "      <th></th>\n",
       "      <th>Team</th>\n",
       "      <th>HR▼</th>\n",
       "    </tr>\n",
       "  </thead>\n",
       "  <tbody>\n",
       "    <tr>\n",
       "      <th>1</th>\n",
       "      <td>Detroit Tigers</td>\n",
       "      <td>151</td>\n",
       "    </tr>\n",
       "    <tr>\n",
       "      <th>2</th>\n",
       "      <td>Toronto Blue Jays</td>\n",
       "      <td>232</td>\n",
       "    </tr>\n",
       "    <tr>\n",
       "      <th>3</th>\n",
       "      <td>Kansas City Royals</td>\n",
       "      <td>139</td>\n",
       "    </tr>\n",
       "    <tr>\n",
       "      <th>4</th>\n",
       "      <td>San Francisco Giants</td>\n",
       "      <td>136</td>\n",
       "    </tr>\n",
       "    <tr>\n",
       "      <th>5</th>\n",
       "      <td>Colorado Rockies</td>\n",
       "      <td>186</td>\n",
       "    </tr>\n",
       "    <tr>\n",
       "      <th>6</th>\n",
       "      <td>Boston Red Sox</td>\n",
       "      <td>161</td>\n",
       "    </tr>\n",
       "    <tr>\n",
       "      <th>7</th>\n",
       "      <td>Arizona Diamondbacks</td>\n",
       "      <td>154</td>\n",
       "    </tr>\n",
       "    <tr>\n",
       "      <th>8</th>\n",
       "      <td>Miami Marlins</td>\n",
       "      <td>120</td>\n",
       "    </tr>\n",
       "    <tr>\n",
       "      <th>9</th>\n",
       "      <td>Pittsburgh Pirates</td>\n",
       "      <td>140</td>\n",
       "    </tr>\n",
       "    <tr>\n",
       "      <th>10</th>\n",
       "      <td>Texas Rangers</td>\n",
       "      <td>172</td>\n",
       "    </tr>\n",
       "    <tr>\n",
       "      <th>11</th>\n",
       "      <td>Cleveland Indians</td>\n",
       "      <td>141</td>\n",
       "    </tr>\n",
       "    <tr>\n",
       "      <th>12</th>\n",
       "      <td>St. Louis Cardinals</td>\n",
       "      <td>137</td>\n",
       "    </tr>\n",
       "    <tr>\n",
       "      <th>13</th>\n",
       "      <td>Tampa Bay Rays</td>\n",
       "      <td>167</td>\n",
       "    </tr>\n",
       "    <tr>\n",
       "      <th>14</th>\n",
       "      <td>Milwaukee Brewers</td>\n",
       "      <td>145</td>\n",
       "    </tr>\n",
       "    <tr>\n",
       "      <th>15</th>\n",
       "      <td>Atlanta Braves</td>\n",
       "      <td>100</td>\n",
       "    </tr>\n",
       "    <tr>\n",
       "      <th>16</th>\n",
       "      <td>Washington Nationals</td>\n",
       "      <td>177</td>\n",
       "    </tr>\n",
       "    <tr>\n",
       "      <th>17</th>\n",
       "      <td>New York Yankees</td>\n",
       "      <td>212</td>\n",
       "    </tr>\n",
       "    <tr>\n",
       "      <th>18</th>\n",
       "      <td>Oakland Athletics</td>\n",
       "      <td>146</td>\n",
       "    </tr>\n",
       "    <tr>\n",
       "      <th>19</th>\n",
       "      <td>Los Angeles Dodgers</td>\n",
       "      <td>187</td>\n",
       "    </tr>\n",
       "    <tr>\n",
       "      <th>20</th>\n",
       "      <td>Baltimore Orioles</td>\n",
       "      <td>217</td>\n",
       "    </tr>\n",
       "    <tr>\n",
       "      <th>21</th>\n",
       "      <td>Houston Astros</td>\n",
       "      <td>230</td>\n",
       "    </tr>\n",
       "    <tr>\n",
       "      <th>22</th>\n",
       "      <td>Chicago White Sox</td>\n",
       "      <td>136</td>\n",
       "    </tr>\n",
       "    <tr>\n",
       "      <th>23</th>\n",
       "      <td>Seattle Mariners</td>\n",
       "      <td>198</td>\n",
       "    </tr>\n",
       "    <tr>\n",
       "      <th>24</th>\n",
       "      <td>Philadelphia Phillies</td>\n",
       "      <td>130</td>\n",
       "    </tr>\n",
       "    <tr>\n",
       "      <th>25</th>\n",
       "      <td>Cincinnati Reds</td>\n",
       "      <td>167</td>\n",
       "    </tr>\n",
       "    <tr>\n",
       "      <th>26</th>\n",
       "      <td>Minnesota Twins</td>\n",
       "      <td>156</td>\n",
       "    </tr>\n",
       "    <tr>\n",
       "      <th>27</th>\n",
       "      <td>Los Angeles Angels</td>\n",
       "      <td>176</td>\n",
       "    </tr>\n",
       "    <tr>\n",
       "      <th>28</th>\n",
       "      <td>New York Mets</td>\n",
       "      <td>177</td>\n",
       "    </tr>\n",
       "    <tr>\n",
       "      <th>29</th>\n",
       "      <td>Chicago Cubs</td>\n",
       "      <td>171</td>\n",
       "    </tr>\n",
       "    <tr>\n",
       "      <th>30</th>\n",
       "      <td>San Diego Padres</td>\n",
       "      <td>148</td>\n",
       "    </tr>\n",
       "    <tr>\n",
       "      <th>Most HRs</th>\n",
       "      <td>Toronto Blue Jays</td>\n",
       "      <td>232</td>\n",
       "    </tr>\n",
       "  </tbody>\n",
       "</table>\n",
       "</div>"
      ],
      "text/plain": [
       "                           Team  HR▼\n",
       "1                Detroit Tigers  151\n",
       "2             Toronto Blue Jays  232\n",
       "3            Kansas City Royals  139\n",
       "4          San Francisco Giants  136\n",
       "5              Colorado Rockies  186\n",
       "6                Boston Red Sox  161\n",
       "7          Arizona Diamondbacks  154\n",
       "8                 Miami Marlins  120\n",
       "9            Pittsburgh Pirates  140\n",
       "10                Texas Rangers  172\n",
       "11            Cleveland Indians  141\n",
       "12          St. Louis Cardinals  137\n",
       "13               Tampa Bay Rays  167\n",
       "14            Milwaukee Brewers  145\n",
       "15               Atlanta Braves  100\n",
       "16         Washington Nationals  177\n",
       "17             New York Yankees  212\n",
       "18            Oakland Athletics  146\n",
       "19          Los Angeles Dodgers  187\n",
       "20            Baltimore Orioles  217\n",
       "21               Houston Astros  230\n",
       "22            Chicago White Sox  136\n",
       "23             Seattle Mariners  198\n",
       "24        Philadelphia Phillies  130\n",
       "25              Cincinnati Reds  167\n",
       "26              Minnesota Twins  156\n",
       "27           Los Angeles Angels  176\n",
       "28                New York Mets  177\n",
       "29                 Chicago Cubs  171\n",
       "30             San Diego Padres  148\n",
       "Most HRs      Toronto Blue Jays  232"
      ]
     },
     "execution_count": 24,
     "metadata": {},
     "output_type": "execute_result"
    }
   ],
   "source": [
    "len_of_index = len(df.index)\n",
    "# change last row name to 'Most HRs'\n",
    "df.rename(index={len_of_index: 'Most HRs'})"
   ]
  },
  {
   "cell_type": "code",
   "execution_count": 25,
   "metadata": {},
   "outputs": [],
   "source": [
    "df.to_csv('ques_one.csv', sep='\\t')"
   ]
  },
  {
   "cell_type": "code",
   "execution_count": 26,
   "metadata": {},
   "outputs": [
    {
     "name": "stdout",
     "output_type": "stream",
     "text": [
      "('Toronto Blue Jays', '232')\n"
     ]
    }
   ],
   "source": [
    "'''question one:\n",
    "which team had most HRs in regular season in 2015? print full team name'''\n",
    "print(ques_one_list[-1])"
   ]
  },
  {
   "cell_type": "code",
   "execution_count": 27,
   "metadata": {},
   "outputs": [],
   "source": [
    "'''\n",
    "Question 2:\n",
    "'''\n",
    "field_sets_div = driver.find_element_by_id('st_hitting-0')"
   ]
  },
  {
   "cell_type": "code",
   "execution_count": 28,
   "metadata": {},
   "outputs": [],
   "source": [
    "field_sets = field_sets_div.find_element_by_class_name('widget-radio')"
   ]
  },
  {
   "cell_type": "code",
   "execution_count": 29,
   "metadata": {},
   "outputs": [],
   "source": [
    "field_sets_spans = field_sets.find_elements_by_class_name('ui-button-text')"
   ]
  },
  {
   "cell_type": "code",
   "execution_count": 30,
   "metadata": {},
   "outputs": [],
   "source": [
    "MLB_tab = field_sets_spans[0]\n",
    "AL_tab = field_sets_spans[1]\n",
    "NL_tab = field_sets_spans[2]"
   ]
  },
  {
   "cell_type": "code",
   "execution_count": 31,
   "metadata": {},
   "outputs": [],
   "source": [
    "AL_tab.click()\n",
    "time.sleep(normal_delay)"
   ]
  },
  {
   "cell_type": "code",
   "execution_count": 32,
   "metadata": {},
   "outputs": [],
   "source": [
    "ques_two_page_source = driver.page_source\n",
    "AL_soup = BeautifulSoup(ques_two_page_source, 'html.parser')"
   ]
  },
  {
   "cell_type": "code",
   "execution_count": 33,
   "metadata": {},
   "outputs": [],
   "source": [
    "AL_table_grid = AL_soup.find('div', attrs={'id': 'datagrid'})"
   ]
  },
  {
   "cell_type": "code",
   "execution_count": 34,
   "metadata": {},
   "outputs": [],
   "source": [
    "# find table in table_div\n",
    "AL_table = AL_table_grid.find('table',attrs={'class':'data_grid'})"
   ]
  },
  {
   "cell_type": "code",
   "execution_count": 35,
   "metadata": {},
   "outputs": [],
   "source": [
    "# get AL team list\n",
    "AL_team_list = []\n",
    "team_col_name = AL_table.thead.find_all('th')[1].text\n",
    "# tbody of table\n",
    "AL_table_body = AL_table.tbody\n",
    "# retrieve name from each tr\n",
    "for tr in AL_table_body.find_all('tr'):\n",
    "    tds = tr.find_all('td')\n",
    "    AL_team_list.append(tds[1].text)"
   ]
  },
  {
   "cell_type": "code",
   "execution_count": 36,
   "metadata": {},
   "outputs": [],
   "source": [
    "# Similarly get NL_team_list\n",
    "NL_tab.click() #click into NL_tab page\n",
    "time.sleep(normal_delay)"
   ]
  },
  {
   "cell_type": "code",
   "execution_count": 37,
   "metadata": {},
   "outputs": [],
   "source": [
    "NL_soup = BeautifulSoup(driver.page_source, 'html.parser')\n",
    "# NL table grid & table\n",
    "NL_table_grid = NL_soup.find('div', attrs={'id': 'datagrid'})\n",
    "# find table in table_div\n",
    "NL_table = NL_table_grid.find('table',attrs={'class':'data_grid'})\n",
    "# get AL team list\n",
    "NL_team_list = []\n",
    "team_col_name = NL_table.thead.find_all('th')[1].text\n",
    "# tbody of table\n",
    "NL_table_body = NL_table.tbody\n",
    "# retrieve name from each tr\n",
    "for tr in NL_table_body.find_all('tr'):\n",
    "    tds = tr.find_all('td')\n",
    "    NL_team_list.append(tds[1].text)"
   ]
  },
  {
   "cell_type": "code",
   "execution_count": 38,
   "metadata": {},
   "outputs": [],
   "source": [
    "ques_one_name_list = [i[0] for i in ques_one_list][:-1]\n",
    "AL_list = []\n",
    "NL_list = []\n",
    "for name in ques_one_name_list:\n",
    "    # index of name in list\n",
    "    index = ques_one_name_list.index(name)\n",
    "    if name in AL_team_list:\n",
    "        AL_list.append(ques_one_list[index])\n",
    "    elif name in NL_team_list:\n",
    "        NL_list.append(ques_one_list[index])"
   ]
  },
  {
   "cell_type": "code",
   "execution_count": 39,
   "metadata": {},
   "outputs": [],
   "source": [
    "AL_hr_list = [int(i[1]) for i in AL_list]\n",
    "NL_hr_list = [int(i[1]) for i in NL_list]\n",
    "# calculate average of both league\n",
    "AL_ave_hr = sum(AL_hr_list) / len(AL_hr_list)\n",
    "NL_ave_hr = sum(NL_hr_list) / len(NL_hr_list)\n",
    "ques_two_a = []\n",
    "if NL_ave_hr > AL_ave_hr:\n",
    "    ques_two_a = ['NL', 'AVE HRs: ' + str(NL_ave_hr)]\n",
    "elif AL_ave_hr > NL_ave_hr:\n",
    "    ques_two_a = ['AL', 'AVE HRs: ' + str(AL_ave_hr)]\n",
    "else:\n",
    "    ques_two_a = ['Same number for both league: ' + str(NL_ave_hr)]"
   ]
  },
  {
   "cell_type": "code",
   "execution_count": 40,
   "metadata": {},
   "outputs": [
    {
     "data": {
      "text/plain": [
       "['AL', 'AVE HRs: 175.6']"
      ]
     },
     "execution_count": 40,
     "metadata": {},
     "output_type": "execute_result"
    }
   ],
   "source": [
    "'''\n",
    "Question two a\n",
    "'''\n",
    "ques_two_a"
   ]
  },
  {
   "cell_type": "code",
   "execution_count": 41,
   "metadata": {},
   "outputs": [],
   "source": [
    "# find MLB tab and click\n",
    "MLB_tab.click()\n",
    "time.sleep(normal_delay)"
   ]
  },
  {
   "cell_type": "code",
   "execution_count": 42,
   "metadata": {},
   "outputs": [],
   "source": [
    "# spot first inning page and click into the page\n",
    "hitting_split = driver.find_element_by_id('st_hitting_hitting_splits')\n",
    "split_select = Select(hitting_split)\n",
    "split_select.select_by_value('i01')\n",
    "time.sleep(normal_delay)"
   ]
  },
  {
   "cell_type": "code",
   "execution_count": 43,
   "metadata": {},
   "outputs": [],
   "source": [
    "inning_soup = BeautifulSoup(driver.page_source, 'html.parser')\n",
    "inning_table_div = inning_soup.find('div', attrs={'id':'datagrid'})\n",
    "inning_table = inning_table_div.find('table',attrs={'class':'data_grid'})"
   ]
  },
  {
   "cell_type": "code",
   "execution_count": 44,
   "metadata": {},
   "outputs": [],
   "source": [
    "def first_inning_ave_hr(table):\n",
    "    first_inning_AL_list = []\n",
    "    first_inning_NL_list = []\n",
    "    first_inning_Alleague_HR = []\n",
    "    first_inning_Alleague_list = []\n",
    "    ques_two_b_list = []\n",
    "    # team name & hr cols in first inning\n",
    "    col_names = []\n",
    "    ths = table.thead.find_all('th')\n",
    "    going_to_add_colnames = [ths[1].text,ths[10].abbr.text]\n",
    "    col_names.extend(going_to_add_colnames)\n",
    "    # put first inning hrs into [first_inning_Alleague_HR]\n",
    "    for tr in table.tbody.find_all('tr'):\n",
    "        tds = tr.find_all('td')\n",
    "        ques_two_b_list.append(tds[1].text)\n",
    "        first_inning_Alleague_HR.append(tds[10].text)\n",
    "    # combine name & hr\n",
    "    first_inning_Alleague_list = list(zip(ques_two_b_list, first_inning_Alleague_HR))\n",
    "    # convert it to dataframe\n",
    "    first_inning_Alleague_df = pd.DataFrame(columns = col_names, data = first_inning_Alleague_list, index= range(1,n_rows+1))\n",
    "    first_inning_Alleague_df.to_csv('ques_two_b.csv', sep=\"\\t\")\n",
    "    print(ques_two_b_list)\n",
    "    for name in ques_two_b_list:\n",
    "        index = ques_two_b_list.index(name)\n",
    "        # if name in AL_team_list, then put corresponding hr to first_inning_AL_list\n",
    "        if name in AL_team_list:\n",
    "            first_inning_AL_list.append(int(first_inning_Alleague_HR[index]))\n",
    "        # if name in NL_team_list, then put corresponding hr to first_inning_NL_list\n",
    "        elif name in NL_team_list:\n",
    "            first_inning_NL_list.append(int(first_inning_Alleague_HR[index]))\n",
    "            \n",
    "    return first_inning_AL_list, first_inning_NL_list, first_inning_Alleague_df"
   ]
  },
  {
   "cell_type": "code",
   "execution_count": 45,
   "metadata": {},
   "outputs": [
    {
     "name": "stdout",
     "output_type": "stream",
     "text": [
      "['Colorado Rockies', 'Kansas City Royals', 'Detroit Tigers', 'Texas Rangers', 'New York Yankees', 'Arizona Diamondbacks', 'Seattle Mariners', 'Miami Marlins', 'Milwaukee Brewers', 'San Francisco Giants', 'Cincinnati Reds', 'Washington Nationals', 'Atlanta Braves', 'Minnesota Twins', 'Pittsburgh Pirates', 'Houston Astros', 'Toronto Blue Jays', 'Boston Red Sox', 'Baltimore Orioles', 'Tampa Bay Rays', 'St. Louis Cardinals', 'Oakland Athletics', 'Cleveland Indians', 'Los Angeles Dodgers', 'Chicago White Sox', 'New York Mets', 'Los Angeles Angels', 'San Diego Padres', 'Philadelphia Phillies', 'Chicago Cubs']\n"
     ]
    }
   ],
   "source": [
    "first_inning_AL_hr, first_inning_NL_hr, first_inning_df = first_inning_ave_hr(inning_table)"
   ]
  },
  {
   "cell_type": "code",
   "execution_count": 46,
   "metadata": {},
   "outputs": [],
   "source": [
    "'''\n",
    "Question two b:\n",
    "'''\n",
    "# calculate the ave hrs for both league\n",
    "first_inning_AL_ave = sum(first_inning_AL_hr) / len(first_inning_AL_hr)\n",
    "first_inning_NL_ave = sum(first_inning_NL_hr) / len(first_inning_NL_hr)\n",
    "ques_two_b= []\n",
    "if first_inning_AL_ave > first_inning_NL_ave:\n",
    "    ques_two_b = ['AL', 'First inning ave HRs: ' + str(first_inning_AL_ave)]\n",
    "elif first_inning_NL_ave > first_inning_AL_ave:\n",
    "    ques_two_b = ['NL', 'First inning ave HRs: ' + str(first_inning_NL_ave)]\n",
    "else:\n",
    "    ques_two_b = ['Same number for both league: ', str(first_inning_NL_ave)]"
   ]
  },
  {
   "cell_type": "code",
   "execution_count": 47,
   "metadata": {},
   "outputs": [
    {
     "data": {
      "text/plain": [
       "23.666666666666668"
      ]
     },
     "execution_count": 47,
     "metadata": {},
     "output_type": "execute_result"
    }
   ],
   "source": [
    "first_inning_AL_ave"
   ]
  },
  {
   "cell_type": "code",
   "execution_count": 48,
   "metadata": {},
   "outputs": [
    {
     "data": {
      "text/plain": [
       "['AL', 'AVE HRs: 175.6']"
      ]
     },
     "execution_count": 48,
     "metadata": {},
     "output_type": "execute_result"
    }
   ],
   "source": [
    "ques_two_a"
   ]
  },
  {
   "cell_type": "code",
   "execution_count": 49,
   "metadata": {},
   "outputs": [],
   "source": [
    "'''\n",
    "Question 3:\n",
    "'''\n",
    "# click player tab from team tab\n",
    "player_tab = driver.find_element_by_id('sp_parent')\n",
    "player_tab.click()\n",
    "time.sleep(normal_delay)"
   ]
  },
  {
   "cell_type": "code",
   "execution_count": 50,
   "metadata": {},
   "outputs": [],
   "source": [
    "# change year from 15 to 17\n",
    "hitting_season_element = driver.find_element_by_id('sp_hitting_season')\n",
    "#select season \n",
    "season_select = Select(hitting_season_element)\n",
    "season_select.select_by_value('2017')\n",
    "time.sleep(normal_delay)"
   ]
  },
  {
   "cell_type": "code",
   "execution_count": 51,
   "metadata": {},
   "outputs": [],
   "source": [
    "# find New York Yankees\n",
    "team_id_tab = driver.find_element_by_id('sp_hitting_team_id')\n",
    "team_select = Select(team_id_tab)\n",
    "team_select.select_by_value('147')\n",
    "time.sleep(normal_delay)"
   ]
  },
  {
   "cell_type": "code",
   "execution_count": 52,
   "metadata": {},
   "outputs": [],
   "source": [
    "select_split = driver.find_element_by_xpath(\"//select[@name='sp_hitting_hitting_splits']/option[text()='Select Split']\")\n",
    "select_split.click()\n",
    "time.sleep(normal_delay)"
   ]
  },
  {
   "cell_type": "code",
   "execution_count": 53,
   "metadata": {},
   "outputs": [],
   "source": [
    "ques_three_page_source = driver.page_source\n",
    "ques_three_soup = BeautifulSoup(ques_three_page_source, 'html.parser')"
   ]
  },
  {
   "cell_type": "code",
   "execution_count": 54,
   "metadata": {},
   "outputs": [],
   "source": [
    "# find table_div for question 3\n",
    "yankees_table_div = ques_three_soup.find('div', attrs={'id': 'datagrid'})\n",
    "yankees_table = yankees_table_div.find('table', attrs={'class': 'data_grid'})"
   ]
  },
  {
   "cell_type": "code",
   "execution_count": 55,
   "metadata": {},
   "outputs": [],
   "source": [
    "def ques_three_fun(table):\n",
    "    col_names = []\n",
    "    # table header & body\n",
    "    table_header = yankees_table.thead\n",
    "    table_body = yankees_table.tbody\n",
    "    # player_name, Pos, AB, AVG\n",
    "    heads = table_header.find_all('th')\n",
    "    header_player = heads[1].text\n",
    "    header_pos = heads[5].text\n",
    "    header_AB = heads[7].abbr.text\n",
    "    header_AVG = heads[18].abbr.text\n",
    "    # col_names\n",
    "    going_to_add_cols = [header_player,header_pos,header_AB,header_AVG]\n",
    "    col_names.extend(going_to_add_cols)\n",
    "    \n",
    "    #intialize cols list\n",
    "    player_list = []\n",
    "    pos_list = []\n",
    "    ab_list = []\n",
    "    avg_list = []\n",
    "    trs = table_body.find_all('tr')\n",
    "    for tr in trs:\n",
    "        tds = tr.find_all('td')\n",
    "        # get name, pos, ab, avg value\n",
    "        player_name = tds[1].text\n",
    "        player_list.append(player_name)\n",
    "        pos = tds[5].text\n",
    "        pos_list.append(pos)\n",
    "        AB = tds[7].text\n",
    "        ab_list.append(AB)\n",
    "        AVG = tds[18].text\n",
    "        avg_list.append(AVG)\n",
    "    data = list(zip(player_list, pos_list, ab_list, avg_list))\n",
    "    ques_three_df = pd.DataFrame(columns = col_names, data = data, index= range(1,len(trs)+1))\n",
    "    ques_three_df.to_csv('ques_three.csv', sep='\\t')\n",
    "    return ques_three_df"
   ]
  },
  {
   "cell_type": "code",
   "execution_count": 56,
   "metadata": {
    "scrolled": true
   },
   "outputs": [],
   "source": [
    "ques_three_df = ques_three_fun(yankees_table)"
   ]
  },
  {
   "cell_type": "code",
   "execution_count": 57,
   "metadata": {},
   "outputs": [],
   "source": [
    "# retrieve AB col\n",
    "# player_col = ques_three_df['Player']\n",
    "# pos_col = ques_three_df['Pos'] \n",
    "AB_col = ques_three_df['AB']\n",
    "# avg_col = ques_three_df['AVG']\n",
    "q3_best_player = [ques_three_df.loc[ques_three_df.index[31]]][0]\n",
    "for index,value in enumerate(AB_col):\n",
    "    if(int(value)>=30):\n",
    "        if ques_three_df.loc[ques_three_df.index[index], 'AVG'] > q3_best_player[3]:\n",
    "#             put row into list to store\n",
    "            q3_best_player=[ques_three_df.loc[ques_three_df.index[index]]][0]\n",
    "        \n",
    "#         q3_best_player = [ques_three_df.loc[ques_three_df.index[index], 'Player'], ques_three_df.loc[ques_three_df.index[index], 'Pos'], ques_three_df.loc[ques_three_df.index[index], 'AVG']]\n",
    "'''Question 3a answer'''\n",
    "q3_best_player = q3_best_player[0:2]"
   ]
  },
  {
   "cell_type": "code",
   "execution_count": 58,
   "metadata": {},
   "outputs": [],
   "source": [
    "# use numpy logical or to grab player whose pos are RF,LF,CF\n",
    "ques_three_b_df = ques_three_df[np.logical_or(np.logical_or(ques_three_df['Pos'] == 'CF' ,ques_three_df['Pos'] == 'LF'), ques_three_df['Pos'] == 'RF')]"
   ]
  },
  {
   "cell_type": "code",
   "execution_count": 59,
   "metadata": {},
   "outputs": [],
   "source": [
    "'''Question 3b answer'''\n",
    "yankees_best_outfielder = ques_three_b_df.loc[ques_three_b_df.index[0]][0:2]"
   ]
  },
  {
   "cell_type": "code",
   "execution_count": 60,
   "metadata": {},
   "outputs": [],
   "source": [
    "'''\n",
    "Question 4\n",
    "'''\n",
    "# find hitting season element to select\n",
    "hitting_season_element = driver.find_element_by_id('sp_hitting_season')\n",
    "#select season \n",
    "season_select = Select(hitting_season_element)\n",
    "season_select.select_by_value('2015')\n",
    "time.sleep(normal_delay)"
   ]
  },
  {
   "cell_type": "code",
   "execution_count": 61,
   "metadata": {},
   "outputs": [],
   "source": [
    "All_team_select = driver.find_element_by_xpath(\"//select[@name='sp_hitting_team_id']/option[text()='All Teams']\")\n",
    "All_team_select.click()\n",
    "time.sleep(normal_delay)"
   ]
  },
  {
   "cell_type": "code",
   "execution_count": 62,
   "metadata": {},
   "outputs": [],
   "source": [
    "field_sets_div = driver.find_element_by_id('sp_hitting-1')\n",
    "field_sets = field_sets_div.find_element_by_class_name('widget-radio')\n",
    "field_sets_spans = field_sets.find_elements_by_class_name('ui-button-text')\n",
    "AL_tab = field_sets_spans[1]\n",
    "AL_tab.click()\n",
    "time.sleep(normal_delay)"
   ]
  },
  {
   "cell_type": "code",
   "execution_count": 63,
   "metadata": {},
   "outputs": [],
   "source": [
    "ques_four_table_div = driver.find_element_by_id('datagrid')\n",
    "ques_four_table = ques_four_table_div.find_element_by_class_name('data_grid')\n",
    "AB_tab = ques_four_table.find_element_by_tag_name('thead').find_element_by_class_name('dg-ab')\n",
    "AB_tab.click()\n",
    "time.sleep(normal_delay)"
   ]
  },
  {
   "cell_type": "code",
   "execution_count": 64,
   "metadata": {},
   "outputs": [],
   "source": [
    "ques_four_page_source = driver.page_source\n",
    "ques_four_soup = BeautifulSoup(ques_four_page_source, 'html5lib')\n",
    "ques_four_soup_div = ques_four_soup.find('div', attrs={'id':'datagrid'})\n",
    "ques_four_soup_table = ques_four_soup_div.find('table', attrs={'class': 'data_grid'})\n",
    "ques_four_target_player = ques_four_soup_table.tbody.find_all('tr')[0]\n",
    "# Player name, team name, position\n",
    "tds = ques_four_target_player.find_all('td')\n",
    "ques_four_player_name = tds[1].text\n",
    "ques_four_team_name = tds[2].text\n",
    "ques_four_pos = tds[5].text\n",
    "'''\n",
    "Question 4 asnwer\n",
    "'''\n",
    "ques_four_player = [ques_four_player_name, ques_four_team_name, ques_four_pos]"
   ]
  },
  {
   "cell_type": "code",
   "execution_count": 65,
   "metadata": {},
   "outputs": [],
   "source": [
    "hitting_season_element = driver.find_element_by_id('sp_hitting_season')\n",
    "#select season \n",
    "season_select = Select(hitting_season_element)\n",
    "season_select.select_by_value('2014')\n",
    "time.sleep(normal_delay)"
   ]
  },
  {
   "cell_type": "code",
   "execution_count": 66,
   "metadata": {},
   "outputs": [],
   "source": [
    "# all-start game tab\n",
    "All_start_game_type = driver.find_element_by_xpath(\"//select[@name='sp_hitting_game_type']/option[text()='All-Star Game']\")\n",
    "All_start_game_type.click()\n",
    "time.sleep(normal_delay)\n",
    "# AL->MLB\n",
    "field_sets_spans = driver.find_element_by_id('sp_hitting-1').find_element_by_class_name('widget-radio').find_elements_by_class_name('ui-button-text')\n",
    "# field_sets = field_sets_div.find_element_by_class_name('widget-radio')\n",
    "# field_sets_spans = field_sets.find_elements_by_class_name('ui-button-text')\n",
    "MLB_tab = field_sets_spans[0]\n",
    "MLB_tab.click()\n",
    "time.sleep(normal_delay)"
   ]
  },
  {
   "cell_type": "code",
   "execution_count": 67,
   "metadata": {},
   "outputs": [],
   "source": [
    "Latin_America = ['Argentina', \n",
    "                 'Bolivia', \n",
    "                 'Brazil',\n",
    "                 'Chile',\n",
    "                 'Colombia',\n",
    "                 'Costa Rica',\n",
    "                 'Cuba',\n",
    "                 'Dominican Republic',\n",
    "                 'Ecuador',\n",
    "                 'El Salvador',\n",
    "                 'French Guiana',\n",
    "                 'Guadeloupe',\n",
    "                 'Guatemala',\n",
    "                 'Haiti',\n",
    "                 'Honduras',\n",
    "                 'Martinique',\n",
    "                 'Mexico',\n",
    "                 'Nicaragua',\n",
    "                 'Panama',\n",
    "                 'Paraguay',\n",
    "                 'Peru',\n",
    "                 'Puerto Rico',\n",
    "                 'Saint Barthélemy',\n",
    "                 'Saint Martin',\n",
    "                 'Uruguay',\n",
    "                 'Venezuela']"
   ]
  },
  {
   "cell_type": "code",
   "execution_count": 68,
   "metadata": {},
   "outputs": [],
   "source": [
    "# Question five table body\n",
    "ques_five_page_source = driver.page_source\n",
    "ques_five_table_body = BeautifulSoup(ques_five_page_source, 'html5lib').find('div', attrs={'id':'datagrid'}).find('table', attrs={'class': 'data_grid'}).tbody\n",
    "# link list\n",
    "player_link_list = []\n",
    "ques_five_base_link = 'http://www.mlb.com'\n",
    "for tr in ques_five_table_body.find_all('tr'):\n",
    "#     td for each player\n",
    "    tds = tr.find_all('td')\n",
    "#     second column(name col)\n",
    "    name_col = tds[1]\n",
    "    # find a href link\n",
    "    link = name_col.find('a', href=True)\n",
    "    player_link_list.append(ques_five_base_link + link['href'])"
   ]
  },
  {
   "cell_type": "code",
   "execution_count": 69,
   "metadata": {},
   "outputs": [],
   "source": [
    "def get_player_info(link, full_name_list, team_name, league_name):\n",
    "    driver.get(link)\n",
    "    soup = BeautifulSoup(driver.page_source, 'html5lib')\n",
    "    section = soup.body.find('section', {'id': 'quick-stats'})\n",
    "    div = section.find('div', {'class': 'player-bio'})\n",
    "    spans = div.find_all('span', {'class': 'label'})\n",
    "    full_name = div.find('li', {'class': 'full-name'}).text\n",
    "    team_table = soup.body.find('div', {'id': 'careerStats'}).find('div', {'class': 'responsive-datatable__pinned'}).find('table')\n",
    "    trs = team_table.tbody.findAll('tr')\n",
    "    t_name = ''\n",
    "    l_name = ''\n",
    "    for tr in trs:\n",
    "        tds = tr.findAll('td')\n",
    "        if tds[0].find('span') and tds[0].find('span').text == '2014':\n",
    "            t_name = tds[1].text.strip()\n",
    "            l_name = tds[2].text.strip()\n",
    "    for index,span in enumerate(spans):\n",
    "        # spot span with text == Born:\n",
    "        if span.text == 'Born:':\n",
    "            info = div.find_all('li')[index].text\n",
    "            # retrieve last word in str\n",
    "#             last_word = info.split()[-1]\n",
    "            doc = nlp(info.strip())\n",
    "            for ent in doc.ents:\n",
    "                if ent.label_ == 'GPE' and ent.text in Latin_America:\n",
    "                    full_name_list.append(full_name)\n",
    "                    team_name.append(t_name)\n",
    "                    league_name.append(l_name)\n",
    "#     data = list(zip(full_name_list, team_name, league_name))\n",
    "    return full_name_list, team_name, league_name"
   ]
  },
  {
   "cell_type": "code",
   "execution_count": 71,
   "metadata": {},
   "outputs": [],
   "source": [
    "full_name_list = []\n",
    "team_name = []\n",
    "league_name = []\n",
    "for link in player_link_list:\n",
    "    get_player_info(link, full_name_list, team_name, league_name)\n",
    "ques_5_data = list(zip(full_name_list, team_name, league_name))\n",
    "col_name = ['Player Name', 'Team Name', 'League Name']"
   ]
  },
  {
   "cell_type": "code",
   "execution_count": 72,
   "metadata": {
    "collapsed": true
   },
   "outputs": [
    {
     "data": {
      "text/html": [
       "<div>\n",
       "<style scoped>\n",
       "    .dataframe tbody tr th:only-of-type {\n",
       "        vertical-align: middle;\n",
       "    }\n",
       "\n",
       "    .dataframe tbody tr th {\n",
       "        vertical-align: top;\n",
       "    }\n",
       "\n",
       "    .dataframe thead th {\n",
       "        text-align: right;\n",
       "    }\n",
       "</style>\n",
       "<table border=\"1\" class=\"dataframe\">\n",
       "  <thead>\n",
       "    <tr style=\"text-align: right;\">\n",
       "      <th></th>\n",
       "      <th>Player Name</th>\n",
       "      <th>Team Name</th>\n",
       "      <th>League Name</th>\n",
       "    </tr>\n",
       "  </thead>\n",
       "  <tbody>\n",
       "    <tr>\n",
       "      <th>1</th>\n",
       "      <td>Full Name: Jose Miguel Cabrera</td>\n",
       "      <td>DET</td>\n",
       "      <td>AL</td>\n",
       "    </tr>\n",
       "    <tr>\n",
       "      <th>2</th>\n",
       "      <td>Full Name: Yasiel Puig</td>\n",
       "      <td>LAD</td>\n",
       "      <td>NL</td>\n",
       "    </tr>\n",
       "    <tr>\n",
       "      <th>3</th>\n",
       "      <td>Full Name: Aramis Nin Ramirez</td>\n",
       "      <td>MIL</td>\n",
       "      <td>NL</td>\n",
       "    </tr>\n",
       "    <tr>\n",
       "      <th>4</th>\n",
       "      <td>Full Name: José Antonio Bautista</td>\n",
       "      <td>TOR</td>\n",
       "      <td>AL</td>\n",
       "    </tr>\n",
       "    <tr>\n",
       "      <th>5</th>\n",
       "      <td>Full Name: Robinson Jose Canó</td>\n",
       "      <td>SEA</td>\n",
       "      <td>AL</td>\n",
       "    </tr>\n",
       "    <tr>\n",
       "      <th>6</th>\n",
       "      <td>Full Name: Yoenis Céspedes</td>\n",
       "      <td>2 teams</td>\n",
       "      <td>-</td>\n",
       "    </tr>\n",
       "    <tr>\n",
       "      <th>7</th>\n",
       "      <td>Full Name: Nelson Ramon Cruz</td>\n",
       "      <td>BAL</td>\n",
       "      <td>AL</td>\n",
       "    </tr>\n",
       "    <tr>\n",
       "      <th>8</th>\n",
       "      <td>Full Name: Carlos Argelis Gómez</td>\n",
       "      <td>MIL</td>\n",
       "      <td>NL</td>\n",
       "    </tr>\n",
       "    <tr>\n",
       "      <th>9</th>\n",
       "      <td>Full Name: Alexei Fernando Ramirez</td>\n",
       "      <td>CWS</td>\n",
       "      <td>AL</td>\n",
       "    </tr>\n",
       "    <tr>\n",
       "      <th>10</th>\n",
       "      <td>Full Name: José Dariel Abreu</td>\n",
       "      <td>CWS</td>\n",
       "      <td>AL</td>\n",
       "    </tr>\n",
       "    <tr>\n",
       "      <th>11</th>\n",
       "      <td>Full Name: Starlin DeJesus Castro</td>\n",
       "      <td>CHC</td>\n",
       "      <td>NL</td>\n",
       "    </tr>\n",
       "    <tr>\n",
       "      <th>12</th>\n",
       "      <td>Full Name: Miguel Angel Montero</td>\n",
       "      <td>ARI</td>\n",
       "      <td>NL</td>\n",
       "    </tr>\n",
       "    <tr>\n",
       "      <th>13</th>\n",
       "      <td>Full Name: Salvador Johan Perez</td>\n",
       "      <td>KC</td>\n",
       "      <td>AL</td>\n",
       "    </tr>\n",
       "    <tr>\n",
       "      <th>14</th>\n",
       "      <td>Full Name: José Carlos Altuve</td>\n",
       "      <td>HOU</td>\n",
       "      <td>AL</td>\n",
       "    </tr>\n",
       "    <tr>\n",
       "      <th>15</th>\n",
       "      <td>Full Name: Adrian Beltre</td>\n",
       "      <td>TEX</td>\n",
       "      <td>AL</td>\n",
       "    </tr>\n",
       "  </tbody>\n",
       "</table>\n",
       "</div>"
      ],
      "text/plain": [
       "                           Player Name Team Name League Name\n",
       "1       Full Name: Jose Miguel Cabrera       DET          AL\n",
       "2               Full Name: Yasiel Puig       LAD          NL\n",
       "3        Full Name: Aramis Nin Ramirez       MIL          NL\n",
       "4     Full Name: José Antonio Bautista       TOR          AL\n",
       "5        Full Name: Robinson Jose Canó       SEA          AL\n",
       "6           Full Name: Yoenis Céspedes   2 teams           -\n",
       "7         Full Name: Nelson Ramon Cruz       BAL          AL\n",
       "8      Full Name: Carlos Argelis Gómez       MIL          NL\n",
       "9   Full Name: Alexei Fernando Ramirez       CWS          AL\n",
       "10        Full Name: José Dariel Abreu       CWS          AL\n",
       "11   Full Name: Starlin DeJesus Castro       CHC          NL\n",
       "12     Full Name: Miguel Angel Montero       ARI          NL\n",
       "13     Full Name: Salvador Johan Perez        KC          AL\n",
       "14       Full Name: José Carlos Altuve       HOU          AL\n",
       "15            Full Name: Adrian Beltre       TEX          AL"
      ]
     },
     "execution_count": 72,
     "metadata": {},
     "output_type": "execute_result"
    }
   ],
   "source": [
    "ques_five_df = pd.DataFrame(columns = col_name, data = ques_5_data, index= range(1,len(full_name_list)+1))\n",
    "ques_five_df.to_csv('ques_five.csv', sep='\\t')\n",
    "'''\n",
    "Question 5\n",
    "'''\n",
    "ques_five_df"
   ]
  },
  {
   "cell_type": "code",
   "execution_count": 73,
   "metadata": {},
   "outputs": [
    {
     "name": "stdout",
     "output_type": "stream",
     "text": [
      "<class 'list'>\n"
     ]
    }
   ],
   "source": [
    "'''\n",
    "Question 6\n",
    "'''\n",
    "########### Python 3.2 #############\n",
    "import http.client, urllib.request, urllib.parse, urllib.error, base64, json, os\n",
    "\n",
    "headers = {\n",
    "    # Request headers\n",
    "    'Ocp-Apim-Subscription-Key': '1d7ff7298e7f4c84802a0ef013940c01',\n",
    "}\n",
    "\n",
    "params = urllib.parse.urlencode({\n",
    "})\n",
    "\n",
    "try:\n",
    "    conn = http.client.HTTPSConnection('api.fantasydata.net')\n",
    "    conn.request(\"GET\", \"/v3/mlb/stats/JSON/Games/2016\", \"{body}\", headers)\n",
    "    response = conn.getresponse()\n",
    "    data = json.loads(response.read())\n",
    "    print(type(data))\n",
    "#     print(data)\n",
    "    with open('Question_6_schedule.txt', 'w') as outfile:\n",
    "        outfile.write(json.dumps(data))\n",
    "    conn.close()\n",
    "except Exception as e:\n",
    "    print(\"[Errno {0}] {1}\".format(e.errno, e.strerror))\n"
   ]
  },
  {
   "cell_type": "code",
   "execution_count": 74,
   "metadata": {},
   "outputs": [],
   "source": [
    "# read file into json\n",
    "with open(\"Question_6_schedule.txt\") as inputfile:\n",
    "    response = json.load(inputfile)\n",
    "    # Filter python objects with list comprehensions\n",
    "response = [x for x in response if x['AwayTeam']=='HOU' or x['HomeTeam'] == 'HOU']\n",
    "output_json = json.dumps(response,indent=4, sort_keys=True)\n",
    "ques_6_col_names = ['Opponent team names', 'Game date', 'stadiumID']\n",
    "#initialize opponent team names, game date, stadiumID list\n",
    "opponent_team_names = []\n",
    "game_date = []\n",
    "stadiumID = []\n",
    "for game in response:\n",
    "    game_date.append(game['DateTime'])\n",
    "    stadiumID.append(game['StadiumID'])\n",
    "    if game['AwayTeam'] == 'HOU':\n",
    "        opponent_team_names.append(game['HomeTeam'])\n",
    "    elif game['HomeTeam'] == 'HOU':\n",
    "        opponent_team_names.append(game['AwayTeam'])"
   ]
  },
  {
   "cell_type": "code",
   "execution_count": 75,
   "metadata": {},
   "outputs": [],
   "source": [
    "# get stadium data \n",
    "try:\n",
    "    conn = http.client.HTTPSConnection('api.fantasydata.net')\n",
    "    conn.request(\"GET\", \"/v3/mlb/stats/JSON/Stadiums?\", \"{body}\", headers)\n",
    "    response = conn.getresponse()\n",
    "    data = json.loads(response.read())\n",
    "    with open('Question_6_stadium.txt', 'w') as outfile:\n",
    "        outfile.write(json.dumps(data))\n",
    "    conn.close()\n",
    "except Exception as e:\n",
    "    print(\"[Errno {0}] {1}\".format(e.errno, e.strerror))"
   ]
  },
  {
   "cell_type": "code",
   "execution_count": 76,
   "metadata": {},
   "outputs": [],
   "source": [
    "with open('Question_6_stadium.txt') as inputfile:\n",
    "    stadiums = json.load(inputfile)\n",
    "required_stadium_info = []\n",
    "required_stadium_info = [[x['StadiumID'], x['Name'], x['City'], x['State']] for x in stadiums]"
   ]
  },
  {
   "cell_type": "code",
   "execution_count": 77,
   "metadata": {},
   "outputs": [],
   "source": [
    "for index,ID in enumerate(stadiumID):\n",
    "    for ind,info in enumerate(required_stadium_info):\n",
    "        if ID == info[0]:\n",
    "            stadiumID[index] = required_stadium_info[ind][1:4]\n"
   ]
  },
  {
   "cell_type": "code",
   "execution_count": 78,
   "metadata": {},
   "outputs": [],
   "source": [
    "# get team name data \n",
    "try:\n",
    "    conn = http.client.HTTPSConnection('api.fantasydata.net')\n",
    "    conn.request(\"GET\", \"/v3/mlb/stats/JSON/AllTeams?\", \"{body}\", headers)\n",
    "    response = conn.getresponse()\n",
    "    data = json.loads(response.read())\n",
    "    with open('Question_6_team_name.txt', 'w') as outfile:\n",
    "        outfile.write(json.dumps(data))\n",
    "    conn.close()\n",
    "except Exception as e:\n",
    "    print(\"[Errno {0}] {1}\".format(e.errno, e.strerror))"
   ]
  },
  {
   "cell_type": "code",
   "execution_count": 80,
   "metadata": {},
   "outputs": [],
   "source": [
    "with open('Question_6_team_name.txt') as inputfile:\n",
    "    ques_6_team_names = json.load(inputfile)\n",
    "new_team_list = []\n",
    "# find name col in ques 6 df and replace name over key\n",
    "for inedx,name in enumerate(opponent_team_names):\n",
    "    for ind,team_info in enumerate(ques_6_team_names):\n",
    "        if name == team_info['Key']:\n",
    "            new_team_list.append(team_info['Name'])\n",
    "ques_6_data = list(zip(new_team_list, game_date, stadiumID))\n",
    "ques_6_df = pd.DataFrame(columns= ques_6_col_names, data = ques_6_data, index =range(1, len(new_team_list)+1))\n",
    "ques_6_df.to_csv('Question_6_final.csv', sep=\"\\t\")\n",
    "'''\n",
    "Question 6 answer from API schedule, team name, stats\n",
    "'''"
   ]
  },
  {
   "cell_type": "code",
   "execution_count": null,
   "metadata": {},
   "outputs": [],
   "source": []
  }
 ],
 "metadata": {
  "kernelspec": {
   "display_name": "Python 3",
   "language": "python",
   "name": "python3"
  },
  "language_info": {
   "codemirror_mode": {
    "name": "ipython",
    "version": 3
   },
   "file_extension": ".py",
   "mimetype": "text/x-python",
   "name": "python",
   "nbconvert_exporter": "python",
   "pygments_lexer": "ipython3",
   "version": "3.6.4"
  }
 },
 "nbformat": 4,
 "nbformat_minor": 2
}
