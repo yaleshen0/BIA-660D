{
 "cells": [
  {
   "cell_type": "code",
   "execution_count": 1,
   "metadata": {},
   "outputs": [],
   "source": [
    "from selenium import webdriver\n",
    "from selenium.webdriver.support.select import Select\n",
    "from selenium.webdriver.common.keys import Keys\n",
    "#select works to select from an item\n",
    "from selenium.webdriver import ActionChains\n",
    "from selenium.webdriver.common.by import By\n",
    "from selenium.webdriver.support import expected_conditions as EC\n",
    "from selenium.webdriver.support.wait import WebDriverWait\n",
    "import selenium.webdriver.support.ui as ui\n",
    "from selenium.webdriver.common.keys import Keys\n",
    "from bs4 import BeautifulSoup as BS\n",
    "import numpy as np\n",
    "import pandas as pd\n",
    "import spacy\n",
    "import parsedatetime\n",
    "import datetime as dt\n",
    "import json"
   ]
  },
  {
   "cell_type": "code",
   "execution_count": 2,
   "metadata": {},
   "outputs": [],
   "source": [
    "#To simulate the delay\n",
    "import random\n",
    "import time\n",
    "start_time = time.time()\n",
    "normal_delay = random.normalvariate(2, 0.5)\n",
    "time.sleep(normal_delay)    \n",
    "# print(\"--- %.5f seconds ---\" % (time.time() - start_time))\n",
    "\n",
    "def delay(t):\n",
    "    normal_delay = random.normalvariate(t, 0.5)\n",
    "    time.sleep(normal_delay)"
   ]
  },
  {
   "cell_type": "code",
   "execution_count": 3,
   "metadata": {},
   "outputs": [],
   "source": [
    "# Run the Chrome Driver\n",
    "driver = webdriver.Chrome(executable_path=r'/chromedriver')"
   ]
  },
  {
   "cell_type": "code",
   "execution_count": 4,
   "metadata": {},
   "outputs": [],
   "source": [
    "def find_str(s, char):\n",
    "    index = 0\n",
    "    if char in s:\n",
    "        c = char[0]\n",
    "        for ch in s:\n",
    "            if ch == c:\n",
    "                if s[index:index+len(char)] == char:\n",
    "                    return index\n",
    "            index += 1\n",
    "    return -1"
   ]
  },
  {
   "cell_type": "code",
   "execution_count": 5,
   "metadata": {},
   "outputs": [],
   "source": [
    "web_link = \"https://www.amazon.com/RockBirds-Flashlights-Bright-Aluminum-Flashlight/product-reviews/B00X61AJYM\"\n",
    "driver.get(web_link)\n",
    "delay(2)"
   ]
  },
  {
   "cell_type": "code",
   "execution_count": 6,
   "metadata": {},
   "outputs": [],
   "source": [
    "driver.find_element_by_xpath(\"//select[@id='reviewer-type-dropdown']/option[text()='Verified purchase only']\").click()\n",
    "driver.find_element_by_xpath(\"//select[@id='sort-order-dropdown']/option[text()='Most recent']\").click()"
   ]
  },
  {
   "cell_type": "code",
   "execution_count": 8,
   "metadata": {
    "scrolled": true
   },
   "outputs": [],
   "source": [
    "# find reviews sent\n",
    "sent_div = driver.find_element_by_id('cm_cr-review_list')\n",
    "sent_class = sent_div.find_element_by_class_name('a-section')\n",
    "span = sent_class.find_element_by_xpath('//*[@id=\"cm_cr-review_list\"]/div[1]/span[1]')\n",
    "reviews = span.text"
   ]
  },
  {
   "cell_type": "code",
   "execution_count": 9,
   "metadata": {},
   "outputs": [],
   "source": [
    "nlp = spacy.load('en')\n",
    "doc = nlp(unicode(reviews))\n",
    "review_num = doc[-2].text.encode(\"utf-8\")\n",
    "review_num = filter(str.isdigit, review_num)\n",
    "review_page = int(np.ceil(int(review_num) / 10))"
   ]
  },
  {
   "cell_type": "code",
   "execution_count": 10,
   "metadata": {},
   "outputs": [],
   "source": [
    "current_url = driver.current_url\n",
    "index= find_str(current_url, '&pageNumber')"
   ]
  },
  {
   "cell_type": "code",
   "execution_count": 11,
   "metadata": {},
   "outputs": [],
   "source": [
    "def cleanup(token, lower = True):\n",
    "    if lower:\n",
    "       token = token.lower()\n",
    "    return token.strip()"
   ]
  },
  {
   "cell_type": "code",
   "execution_count": 12,
   "metadata": {},
   "outputs": [],
   "source": [
    "def out_for(divs):\n",
    "    for div in divs:\n",
    "        #   find date by data-hook = review-date and //filter out review for review year < 2017\n",
    "        date = div.find('span', attrs={'data-hook': 'review-date'}).get_text()\n",
    "        date_nlp = nlp(unicode(date)).ents[0]\n",
    "        date_year = date_nlp[-1]\n",
    "        # find author name\n",
    "        author = div.find('a', attrs={'data-hook': 'review-author'}).text.encode(\"utf-8\")\n",
    "        # find helpful vote statement\n",
    "        vote = \"\"\n",
    "        if div.find('span', attrs={'data-hook': 'helpful-vote-statement'}):\n",
    "            vote = div.find('span', attrs={'data-hook': 'helpful-vote-statement'}).text.encode(\"utf-8\")\n",
    "        # find the title\n",
    "        title = div.find('a', attrs={'data-hook': 'review-title'}).text.encode(\"utf-8\")\n",
    "        # find the rating score\n",
    "        rating = div.find('span', attrs={'class': 'a-icon-alt'}).text.encode(\"utf-8\")\n",
    "        # if before 2017 break otherwise: append title,date,review\n",
    "        if int(date_year.text) < 2017:\n",
    "#             print('its before year 2017')\n",
    "            return\n",
    "        else:\n",
    "            review_div = div.find('div', attrs={'class': 'a-section celwidget'})\n",
    "            review = review_div.find('span', attrs={'data-hook': 'review-body'}).text.encode(\"utf-8\")\n",
    "        date_list.append(date_nlp.text.encode(\"utf-8\"))\n",
    "        author_list.append(author)\n",
    "        vote_list.append(vote)\n",
    "        title_list.append(title)\n",
    "        review_list.append(review)\n",
    "        rating_list.append(rating)"
   ]
  },
  {
   "cell_type": "code",
   "execution_count": 22,
   "metadata": {},
   "outputs": [],
   "source": [
    "date_extend_list = []\n",
    "author_extend_list = []\n",
    "vote_extend_list = []\n",
    "title_extend_list = []\n",
    "review_extend_list = []\n",
    "rating_extend_list = []\n",
    "for i in range(1,review_page+2):\n",
    "    review_page_link = current_url[0:index] + \"&pageNumber=\" + str(i) + \"&sortBy=recent\"\n",
    "    driver.get(review_page_link)\n",
    "    page_source = driver.page_source\n",
    "    page_source = BS(page_source, \"html5lib\")\n",
    "    review_block = page_source.find('div', attrs={'id': 'cm_cr-review_list'})\n",
    "    review_divs = review_block.findAll('div', attrs={'class': 'review'})\n",
    "\n",
    "    date_list = []\n",
    "    author_list = []\n",
    "    vote_list = []\n",
    "    title_list = []\n",
    "    review_list = []\n",
    "    rating_list = []\n",
    "    out_for(review_divs)\n",
    "    date_extend_list.extend(date_list)\n",
    "    author_extend_list.extend(author_list)\n",
    "    review_extend_list.extend(review_list)\n",
    "    title_extend_list.extend(title_list)\n",
    "    vote_extend_list.extend(vote_list)\n",
    "    rating_extend_list.extend(rating_list)"
   ]
  },
  {
   "cell_type": "code",
   "execution_count": 23,
   "metadata": {},
   "outputs": [],
   "source": [
    "df = pd.DataFrame({'Title': title_extend_list,'Author': author_extend_list,'Date': date_extend_list, 'Review': review_extend_list, \"How helpful\": vote_extend_list, \"Score\": rating_extend_list})\n",
    "df.to_json('reviews.json')"
   ]
  },
  {
   "cell_type": "code",
   "execution_count": 21,
   "metadata": {},
   "outputs": [
    {
     "data": {
      "text/plain": [
       "u'Nice well made little flashlight, they work good on 1.2 volt rechargeable Ni-Mh batteries.'"
      ]
     },
     "execution_count": 21,
     "metadata": {},
     "output_type": "execute_result"
    }
   ],
   "source": [
    "df = pd.read_json(\"reviews.json\")\n",
    "df['Review'][0]"
   ]
  }
 ],
 "metadata": {
  "kernelspec": {
   "display_name": "Python 2",
   "language": "python",
   "name": "python2"
  },
  "language_info": {
   "codemirror_mode": {
    "name": "ipython",
    "version": 2
   },
   "file_extension": ".py",
   "mimetype": "text/x-python",
   "name": "python",
   "nbconvert_exporter": "python",
   "pygments_lexer": "ipython2",
   "version": "2.7.14"
  }
 },
 "nbformat": 4,
 "nbformat_minor": 2
}
